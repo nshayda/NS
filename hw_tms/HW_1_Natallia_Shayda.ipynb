{
 "cells": [
  {
   "cell_type": "markdown",
   "metadata": {
    "id": "TMVwfwNYBYI7"
   },
   "source": [
    "## Задача 1\n",
    "\n",
    "Пользователь вводит с экрана строчку\n",
    "Измените порядок символов в строке на обратный и распечатайте результат\n",
    "\n",
    "\n",
    "\n",
    "Пример:\n",
    "\n",
    "Ввод\n",
    "\n",
    "Abdc\n",
    "\n",
    "Вывод\n",
    "\n",
    "cdbA"
   ]
  },
  {
   "cell_type": "code",
   "execution_count": null,
   "metadata": {
    "colab": {
     "base_uri": "https://localhost:8080/"
    },
    "id": "Uc7H0ICgLqEw",
    "outputId": "b718986a-9d87-497f-f956-338a0ea6b12a"
   },
   "outputs": [],
   "source": [
    "#if __name__==\"__main__\":\n",
    "variable = input()\n",
    "result=''.join(reversed(variable))\n",
    "print(result)"
   ]
  },
  {
   "cell_type": "markdown",
   "metadata": {
    "id": "-WKt414VCEgl"
   },
   "source": [
    "## Задача 2\n",
    "\n",
    "Вход записаны два числа, разделенные пробелом. Поменяйте их местами и напечатайте результат.\n",
    "\n",
    "Пример:\n",
    "\n",
    "Ввод\n",
    "\n",
    "123 4\n",
    "\n",
    "Вывод\n",
    "\n",
    "4 123"
   ]
  },
  {
   "cell_type": "code",
   "execution_count": 46,
   "metadata": {
    "colab": {
     "base_uri": "https://localhost:8080/"
    },
    "id": "DCOKCDqQNCYe",
    "outputId": "103eb72c-a5db-46bc-f0b6-98c9bd573d00"
   },
   "outputs": [
    {
     "name": "stdout",
     "output_type": "stream",
     "text": [
      "1213 45 12\n",
      "21 54 3121\n"
     ]
    }
   ],
   "source": [
    "#if __name__=\"__main__\":\n",
    "variable = input()\n",
    "result=''.join(reversed(variable))\n",
    "print(result)"
   ]
  },
  {
   "cell_type": "markdown",
   "metadata": {
    "id": "wlSdZHOtCgPe"
   },
   "source": [
    "## Задача 3\n",
    "\n",
    " Программа считывает с клавиатуры число $n$, и рисует звездочный квадрат размера $n*n$\n",
    "\n",
    "Пример:\n",
    "\n",
    "Ввод\n",
    "\n",
    "3\n",
    "\n",
    "Вывод\n",
    "```\n",
    "***\n",
    "***\n",
    "***\n",
    "```"
   ]
  },
  {
   "cell_type": "code",
   "execution_count": 47,
   "metadata": {
    "colab": {
     "base_uri": "https://localhost:8080/"
    },
    "id": "GlN9u8SwN1xl",
    "outputId": "d75d46c4-f1b3-449e-96c4-fc675af46ab1"
   },
   "outputs": [
    {
     "name": "stdout",
     "output_type": "stream",
     "text": [
      "Input N: 3\n",
      "***\n",
      "***\n",
      "***\n"
     ]
    }
   ],
   "source": [
    "#if __name__=\"__main__\":\n",
    "N = int(input(\"Input N: \"))\n",
    "for i in range(N):\n",
    "  print(\"*\"*N)\n",
    "\n"
   ]
  },
  {
   "cell_type": "markdown",
   "metadata": {
    "id": "BA1fgie0CvJE"
   },
   "source": [
    "## Задача 4\n",
    "\n",
    "Всё в том же детском саду ребята очень любят играть с цифрами.\n",
    "Одна из таких игр — перестановка цифр четырёхзначного числа.\n",
    "Напишите программу для робота-няни, которая из числа вида abcd составляет число badc.\n",
    "\n",
    "Пример:\n",
    "\n",
    "Ввод\n",
    "\n",
    "1234\n",
    "\n",
    "Вывод\n",
    "2143"
   ]
  },
  {
   "cell_type": "code",
   "execution_count": 48,
   "metadata": {
    "colab": {
     "base_uri": "https://localhost:8080/"
    },
    "id": "UMLa5jYRSqWX",
    "outputId": "8f92264b-fd6a-414e-abc4-c540a9e49a87"
   },
   "outputs": [
    {
     "name": "stdout",
     "output_type": "stream",
     "text": [
      "Input N: 1234\n",
      "2143\n"
     ]
    }
   ],
   "source": [
    "#if __name__=\"__main__\":\n",
    "N = input(\"Input N: \")\n",
    "A=N[0]\n",
    "B=N[1]\n",
    "C=N[2]\n",
    "D=N[3]\n",
    "print(B+A+D+C)"
   ]
  },
  {
   "cell_type": "markdown",
   "metadata": {
    "id": "UvkOvJZoDACp"
   },
   "source": [
    "## Задача 5\n",
    "\n",
    "Один малыш из детского сада услышал от старшей сестры о некоем действии с числами — сложении.\n",
    "И как это часто бывает — он не до конца разобрался, как работает сложение. Например, не совсем понял, как произвести перенос разряда.\n",
    "Теперь он хочет научить сложению остальных ребят и просит написать программу, которая поможет ему в качестве наглядного материала.\n",
    "\n",
    "\n",
    "Пример:\n",
    "\n",
    "Ввод\n",
    "\n",
    "405\n",
    "\n",
    "839\n",
    "\n",
    "Вывод\n",
    "\n",
    "234"
   ]
  },
  {
   "cell_type": "code",
   "execution_count": 49,
   "metadata": {
    "colab": {
     "base_uri": "https://localhost:8080/"
    },
    "id": "_-xUPBsMWAv9",
    "outputId": "74337ca0-759b-4082-8c6c-83d80a10bf0c"
   },
   "outputs": [
    {
     "name": "stdout",
     "output_type": "stream",
     "text": [
      "Input A: 405\n",
      "Input B: 839\n",
      "A+B= 1244\n"
     ]
    }
   ],
   "source": [
    "#if __name__=\"__main__\":\n",
    "#Не очень поняла суть задачи, если написать простое сложение, то будет:\n",
    "A = int(input(\"Input A: \"))\n",
    "B = int(input(\"Input B: \"))\n",
    "print(\"A+B=\",A+B)\n",
    "\n",
    "#Но по выводу вижу, что суть  была в другом, подскажите, пожалуйста,в чем суть, чтобы правильно реализовать"
   ]
  },
  {
   "cell_type": "markdown",
   "metadata": {
    "id": "gv0Gyj9eDR6P"
   },
   "source": [
    "## Задача 6\n",
    "\n",
    "Иногда ребята в детском саду скучают, поэтому они постоянно придумывают себе не очень сложные, но веселые, по их мнению, игры.\n",
    "В группе есть ящик с шариками, количество которых детям заранее неизвестно, следующих цветов:\n",
    "\n",
    "красный;\n",
    "зеленый;\n",
    "синий.\n",
    "\n",
    "Игра заключается в том, что каждый ребенок подходит к ящику и, не глядя, вытаскивает один шарик, победителем считается тот, кто первым вытащит зелёный шарик.\n",
    "Как вы думаете, через какое максимальное количество ходов дети выяснят победителя игры?\n",
    "\n",
    "\n",
    "Пример:\n",
    "\n",
    "Ввод\n",
    "\n",
    "1\n",
    "\n",
    "2\n",
    "\n",
    "3\n",
    "\n",
    "Вывод\n",
    "\n",
    "5"
   ]
  },
  {
   "cell_type": "code",
   "execution_count": 40,
   "metadata": {
    "colab": {
     "base_uri": "https://localhost:8080/"
    },
    "id": "5MhWYZpMWBfd",
    "outputId": "b2c4e579-37fb-4599-dc1f-4dc95e2130e3"
   },
   "outputs": [
    {
     "name": "stdout",
     "output_type": "stream",
     "text": [
      "Input red: 1\n",
      "Input green: 2\n",
      "Input blue: 3\n",
      "5\n"
     ]
    }
   ],
   "source": [
    "#if __name__=\"__main__\":\n",
    "Red = int(input(\"Input red: \"))\n",
    "Green = int(input(\"Input green: \"))\n",
    "Blue = int(input(\"Input blue: \"))\n",
    "print(Red+Blue+1)"
   ]
  },
  {
   "cell_type": "markdown",
   "metadata": {
    "id": "Lf1NYMZ6Dh0F"
   },
   "source": [
    "## Задача 7\n",
    "\n",
    "Продуктовый склад и магазин находятся на одной дороге города Н.\n",
    "Склад находится на отметке\n",
    "A км, а магазин — B км. Средняя скорость автомобиля, доставляющего товары, C км/ч.\n",
    "За какое время продукты попадают со склада в магазин?\n",
    "\n",
    "Формат ввода\n",
    "Три натуральных числа\n",
    "A,\n",
    "B и\n",
    "C, каждое на отдельной строке.\n",
    "\n",
    "\n",
    "Пример:\n",
    "\n",
    "Ввод\n",
    "\n",
    "10\n",
    "\n",
    "32\n",
    "\n",
    "5\n",
    "\n",
    "Вывод\n",
    "\n",
    "4.40"
   ]
  },
  {
   "cell_type": "code",
   "execution_count": 35,
   "metadata": {
    "colab": {
     "base_uri": "https://localhost:8080/"
    },
    "id": "H-klQqCAUna8",
    "outputId": "262d0123-b538-4cbc-e7ba-d77fa7a77803"
   },
   "outputs": [
    {
     "name": "stdout",
     "output_type": "stream",
     "text": [
      "Input A: 10\n",
      "Input B: 32\n",
      "Input C: 5\n",
      "4.4\n"
     ]
    }
   ],
   "source": [
    "#if __name__=\"__main__\":\n",
    "A = int(input(\"Input A: \"))\n",
    "B = int(input(\"Input B: \"))\n",
    "C = int(input(\"Input C: \"))\n",
    "print((B-A)/C)"
   ]
  }
 ],
 "metadata": {
  "colab": {
   "provenance": []
  },
  "kernelspec": {
   "display_name": "Python 3 (ipykernel)",
   "language": "python",
   "name": "python3"
  },
  "language_info": {
   "codemirror_mode": {
    "name": "ipython",
    "version": 3
   },
   "file_extension": ".py",
   "mimetype": "text/x-python",
   "name": "python",
   "nbconvert_exporter": "python",
   "pygments_lexer": "ipython3",
   "version": "3.12.0"
  }
 },
 "nbformat": 4,
 "nbformat_minor": 4
}
